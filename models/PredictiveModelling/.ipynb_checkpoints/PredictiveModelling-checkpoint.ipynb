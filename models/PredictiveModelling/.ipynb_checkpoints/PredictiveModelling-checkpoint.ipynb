{
 "cells": [
  {
   "cell_type": "code",
   "execution_count": 1,
   "metadata": {},
   "outputs": [],
   "source": [
    "import pandas as pd\n",
    "from sklearn.ensemble import RandomForestClassifier\n",
    "from sklearn.metrics import roc_curve\n",
    "from sklearn.metrics import roc_auc_score\n",
    "from sklearn.model_selection import train_test_split\n",
    "from sklearn.metrics import f1_score\n",
    "from sklearn.metrics import precision_score\n",
    "from sklearn.metrics import recall_score\n",
    "from sklearn.metrics import accuracy_score\n",
    "import matplotlib.pyplot as plt\n",
    "from sklearn.dummy import DummyClassifier\n",
    "from sklearn.metrics import confusion_matrix\n",
    "from sklearn.naive_bayes import GaussianNB\n",
    "from sklearn.ensemble import AdaBoostClassifier\n",
    "from sklearn import tree\n",
    "import numpy as np"
   ]
  },
  {
   "cell_type": "markdown",
   "metadata": {},
   "source": [
    "# Preprocessing data and dividing the dataset into train and a test set\n",
    "\n",
    "In order to prepare a dataset, which is used for building and evaluating our general predictive models we first need to load the *mlData.csv* file. Since the *mlData.csv* dataset also includes categorical variables where no ordinal relationship exists we need to perform one-hot encoding technique for such parameters. Finally, we divide our dataset randomly into train (contains 80% dataset points) and test set (contains 20% dataset points)."
   ]
  },
  {
   "cell_type": "code",
   "execution_count": 2,
   "metadata": {},
   "outputs": [],
   "source": [
    "def performOneHotEncoding(df, catNames):\n",
    "    for catName in catNames:\n",
    "        df = pd.concat([df, pd.get_dummies(df[catName], prefix=catName)], axis=1)\n",
    "        df.drop([catName], axis=1, inplace=True)\n",
    "    return df"
   ]
  },
  {
   "cell_type": "code",
   "execution_count": 3,
   "metadata": {},
   "outputs": [],
   "source": [
    "df = pd.read_csv(\"Data/mlData.csv\")\n",
    "df = performOneHotEncoding(df, ['user_activity', 'layout', 'theme', 'font_size'])\n",
    "featureNames = ['user_activity_STILL', 'user_activity_IN_VEHICLE', 'user_activity_ON_FOOT',\n",
    "                'theme_light-theme', 'theme_dark-theme',\n",
    "                'layout_largeCards', 'layout_xLargeCards',\n",
    "                'environmental_brightness',\n",
    "                'font_size_large-font', 'font_size_small-font']\n",
    "x = df[featureNames]\n",
    "y = df['binarized_output']\n",
    "X_train, X_test, y_train, y_test = train_test_split(x, y, test_size=0.2, random_state=3)"
   ]
  },
  {
   "cell_type": "markdown",
   "metadata": {},
   "source": [
    "# Building general predictive models\n",
    "\n",
    "In this section we will build and evaluate performance of 5 different classifiers built using the following algorithms:\n",
    "\n",
    "* Random forest classifier \n",
    "* Naive Bayes classifier\n",
    "* AdaBoost classifier\n",
    "* Decision tree\n",
    "* Majority classifier"
   ]
  },
  {
   "cell_type": "markdown",
   "metadata": {},
   "source": [
    "### Building and evaluating perfomance of the baseline model (majority classifier)"
   ]
  },
  {
   "cell_type": "code",
   "execution_count": 4,
   "metadata": {},
   "outputs": [
    {
     "data": {
      "text/plain": [
       "DummyClassifier(constant=None, random_state=None, strategy='most_frequent')"
      ]
     },
     "execution_count": 4,
     "metadata": {},
     "output_type": "execute_result"
    }
   ],
   "source": [
    "dummy_clf = DummyClassifier(strategy=\"most_frequent\")\n",
    "dummy_clf.fit(X_train, y_train)"
   ]
  },
  {
   "cell_type": "markdown",
   "metadata": {},
   "source": [
    "Function *analyseModel* is used for evaluating the performance of a specific classifier. It prints values such as: recall, precision, F1-score, accuracy, and AUC. Using the *analyseModel* function we are also able to plot the ROC curve. "
   ]
  },
  {
   "cell_type": "code",
   "execution_count": 5,
   "metadata": {},
   "outputs": [],
   "source": [
    "def analyseModel(clf, x, y, X_train, X_test, y_train, y_test):\n",
    "    \n",
    "    y_pred = clf.predict(X_test)\n",
    "    y_pred_proba = clf.predict_proba(X_test)\n",
    "    \n",
    "    fpr, tpr, thr = roc_curve(y_test, y_pred_proba[:, 1])\n",
    "    auc = roc_auc_score(y_test, y_pred_proba[:, 1])\n",
    "    \n",
    "    f1 = f1_score(y_test, y_pred)\n",
    "    precision = precision_score(y_test, y_pred)\n",
    "    recall = recall_score(y_test, y_pred)\n",
    "    \n",
    "    acc = accuracy_score(y_test, y_pred)\n",
    "    \n",
    "    print(\"Precision = \", precision)\n",
    "    print(\"Recall = \", recall)\n",
    "    print(\"F1 = \",f1)\n",
    "    print(\"Accuracy = \", acc)\n",
    "    print(\"AUC = \",auc)\n",
    "    print(\"=====================================\")\n",
    "    plt.plot([0, 1], [0, 1], color='navy', lw=2, linestyle='--')\n",
    "    plt.show()"
   ]
  },
  {
   "cell_type": "code",
   "execution_count": 6,
   "metadata": {},
   "outputs": [
    {
     "name": "stdout",
     "output_type": "stream",
     "text": [
      "Precision =  0.0\n",
      "Recall =  0.0\n",
      "F1 =  0.0\n",
      "Accuracy =  0.49504950495049505\n",
      "AUC =  0.5\n",
      "=====================================\n"
     ]
    },
    {
     "name": "stderr",
     "output_type": "stream",
     "text": [
      "/home/emir/.local/lib/python3.7/site-packages/sklearn/metrics/_classification.py:1272: UndefinedMetricWarning: Precision is ill-defined and being set to 0.0 due to no predicted samples. Use `zero_division` parameter to control this behavior.\n",
      "  _warn_prf(average, modifier, msg_start, len(result))\n"
     ]
    },
    {
     "data": {
      "image/png": "[encoded data removed]",
      "text/plain": [
       "<Figure size 432x288 with 1 Axes>"
      ]
     },
     "metadata": {
      "needs_background": "light"
     },
     "output_type": "display_data"
    }
   ],
   "source": [
    "analyseModel(dummy_clf, x, y, X_train, X_test, y_train, y_test)"
   ]
  },
  {
   "cell_type": "markdown",
   "metadata": {},
   "source": [
    "### Building and evaluating perfomance of the Random Forest model"
   ]
  },
  {
   "cell_type": "code",
   "execution_count": 7,
   "metadata": {},
   "outputs": [
    {
     "name": "stdout",
     "output_type": "stream",
     "text": [
      "Precision =  0.75\n",
      "Recall =  0.7647058823529411\n",
      "F1 =  0.7572815533980582\n",
      "Accuracy =  0.7524752475247525\n",
      "AUC =  0.7825490196078432\n",
      "=====================================\n"
     ]
    },
    {
     "data": {
      "image/png": "[encoded data removed]",
      "text/plain": [
       "<Figure size 432x288 with 1 Axes>"
      ]
     },
     "metadata": {
      "needs_background": "light"
     },
     "output_type": "display_data"
    }
   ],
   "source": [
    "clf = RandomForestClassifier(n_estimators=10, random_state=0)\n",
    "clf.fit(X_train, y_train)\n",
    "analyseModel(clf, x, y, X_train, X_test, y_train, y_test)"
   ]
  },
  {
   "cell_type": "markdown",
   "metadata": {},
   "source": [
    "### Building and evaluating perfomance of the Naive Bayes classifier"
   ]
  },
  {
   "cell_type": "code",
   "execution_count": 8,
   "metadata": {},
   "outputs": [
    {
     "name": "stdout",
     "output_type": "stream",
     "text": [
      "Precision =  0.64\n",
      "Recall =  0.3137254901960784\n",
      "F1 =  0.42105263157894735\n",
      "Accuracy =  0.5643564356435643\n",
      "AUC =  0.6490196078431372\n",
      "=====================================\n"
     ]
    },
    {
     "data": {
      "image/png": "[encoded data removed]",
      "text/plain": [
       "<Figure size 432x288 with 1 Axes>"
      ]
     },
     "metadata": {
      "needs_background": "light"
     },
     "output_type": "display_data"
    }
   ],
   "source": [
    "gnb = GaussianNB()\n",
    "gnb = gnb.fit(X_train, y_train)\n",
    "analyseModel(gnb, x, y, X_train, X_test, y_train, y_test)"
   ]
  },
  {
   "cell_type": "markdown",
   "metadata": {},
   "source": [
    "### Building and evaluating perfomance of the AdaBoost classifier"
   ]
  },
  {
   "cell_type": "code",
   "execution_count": 9,
   "metadata": {},
   "outputs": [
    {
     "name": "stdout",
     "output_type": "stream",
     "text": [
      "Precision =  0.68\n",
      "Recall =  0.6666666666666666\n",
      "F1 =  0.6732673267326733\n",
      "Accuracy =  0.6732673267326733\n",
      "AUC =  0.7149019607843138\n",
      "=====================================\n"
     ]
    },
    {
     "data": {
      "image/png": "[encoded data removed]",
      "text/plain": [
       "<Figure size 432x288 with 1 Axes>"
      ]
     },
     "metadata": {
      "needs_background": "light"
     },
     "output_type": "display_data"
    }
   ],
   "source": [
    "clf = AdaBoostClassifier(n_estimators=10)\n",
    "clf.fit(X_train, y_train)\n",
    "analyseModel(clf, x, y, X_train, X_test, y_train, y_test)"
   ]
  },
  {
   "cell_type": "markdown",
   "metadata": {},
   "source": [
    "### Building and evaluating perfomance of the Decision Tree classifier"
   ]
  },
  {
   "cell_type": "code",
   "execution_count": 10,
   "metadata": {},
   "outputs": [
    {
     "name": "stdout",
     "output_type": "stream",
     "text": [
      "Precision =  0.7727272727272727\n",
      "Recall =  0.6666666666666666\n",
      "F1 =  0.7157894736842105\n",
      "Accuracy =  0.7326732673267327\n",
      "AUC =  0.7541176470588236\n",
      "=====================================\n"
     ]
    },
    {
     "data": {
      "image/png": "[encoded data removed]",
      "text/plain": [
       "<Figure size 432x288 with 1 Axes>"
      ]
     },
     "metadata": {
      "needs_background": "light"
     },
     "output_type": "display_data"
    }
   ],
   "source": [
    "clf = tree.DecisionTreeClassifier()\n",
    "clf.fit(X_train, y_train)\n",
    "analyseModel(clf, x, y, X_train, X_test, y_train, y_test)"
   ]
  }
 ],
 "metadata": {
  "kernelspec": {
   "display_name": "Python 3",
   "language": "python",
   "name": "python3"
  },
  "language_info": {
   "codemirror_mode": {
    "name": "ipython",
    "version": 3
   },
   "file_extension": ".py",
   "mimetype": "text/x-python",
   "name": "python",
   "nbconvert_exporter": "python",
   "pygments_lexer": "ipython3",
   "version": "3.7.3"
  }
 },
 "nbformat": 4,
 "nbformat_minor": 4
}
